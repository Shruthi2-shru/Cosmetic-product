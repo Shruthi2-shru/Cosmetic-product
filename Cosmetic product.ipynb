{
 "cells": [
  {
   "cell_type": "code",
   "execution_count": 1,
   "id": "ca6f7a55",
   "metadata": {},
   "outputs": [],
   "source": [
    "from selenium import webdriver\n",
    "from selenium.webdriver.support.ui import Select\n",
    "import pandas as pd\n",
    "import time"
   ]
  },
  {
   "cell_type": "code",
   "execution_count": 2,
   "id": "bb292d27",
   "metadata": {},
   "outputs": [
    {
     "data": {
      "text/plain": [
       "'C:\\\\shrupy\\\\chromedriver_win32 (3)\\\\chromedriver.exe'"
      ]
     },
     "execution_count": 2,
     "metadata": {},
     "output_type": "execute_result"
    }
   ],
   "source": [
    "driverPath = r\"C:\\shrupy\\chromedriver_win32 (3)\\chromedriver.exe\"\n",
    "driverPath"
   ]
  },
  {
   "cell_type": "code",
   "execution_count": 6,
   "id": "97a018e2",
   "metadata": {},
   "outputs": [
    {
     "name": "stdout",
     "output_type": "stream",
     "text": [
      "[['Faces Canada HD Intense Matte Lipstick, Feather light comfort, 10 hrs stay, Primer infused, Flawless HD finish, Hazel , 1.4 gm'], ['mCaffeine Coffee Moment Skin Care Gift Kit| Pure Arabica Coffee | Tan Removal | Oily/Normal Skin | Paraben & SLS Free'], ['SH. HUDA Professional Makeup Liquid Matte Minis Lipstick Red Edition Pack of 4 (Multicolor)'], ['volo All In One Makeup Kit (3 Pcs Red, Pink, Mahroon Lipsticks,1 Eye Shadow, 1 Foundation,1 Eyeliner, 1 Compact, 1 Kajal, 1 Lip Liner 1 Pouch) Set of 10 Pcs (pink)'], ['Adbeni All In One Daily Uses Beauty Pack Home Salon Kit with Gift Pack Makeup Pouch GC-929'], ['Lakmé Lip Love Chapstick Cherry, Lip Balm With Spf 15, 4.5 g'], ['Himalaya Baby Body Lotion, For All Skin Types (400 ml)'], ['Everbuy 16 Compartment Cosmetic Makeup Jewellery Lipstick Storage Organizer Holder Box, 21.2L x 12.5W x 7.8H, Transparent (16 Slot Lpistick Organiser) (Made in India)'], ['Maybelline New York Hypercurl Mascara Waterproof, Black, 9.2g'], ['Iba Makeup Gift Set (Fair) - Foundation, Compact, Primer, Lipsticks, Kajal'], ['Squared Water Drop Style Beauty Makeup Blending Powder Sponge Powder Puff ( Random Colour)'], ['WOW Aloe Vera Multipurpose Beauty Gel for Skin and Hair, 130ml + 20ml'], ['Vaseline Intensive Care 24 hr nourishing Cocoa Glow Body Lotion with Cocoa And Shea Butter, Restores Glow for all skin type - 400 ml'], ['Lotus Professional Phyto Rx Whitening And Brightening Creme, SPF 25 PA+++, 50g'], ['Lakmé Eyeconic Kajal Twin Pack, Smudge Proof, Water Proof, Lasts Upto 22 Hours, 0.35 g + 0.35 g}'], ['Insight Primer | 3 In 1 Oil Free (PRIMER)'], ['Faces Canada Weightless Matte Compact SPF 20, Enriched with Shea Butter and Vitamin E , Non Oily Matte Finish, Ivory 9gm'], ['NIVEA Deodorant Roll-on, Whitening Smooth Skin, 50ml'], [\"L'Oreal Paris Revitalift Crystal Micro-Essence, 22 g\"], ['Maybelline New York Fit Me 12Hr Oil Control Compact, 220 Natural Beige, 8g'], ['Plum E-Luminence Deep Moisturizing Creme | Enriched with Niacinamide, Vitamin E & Willow Bark | 100% Vegan, Cruelty Free'], ['Faces Canada Longwear Eye Pencil Solid Black 02 1.2 g (Black)'], ['RENEE FAB 5 Matte Finish 5 in 1 Lipstick 7.5G'], ['The Derma Co 1% Salicylic Acid Oil-Free Face Moisturizer with Oat Extract for Active Acne - 50g(dermaco)'], [\"Maybelline New York Girl's Gotta Go Out Eye Makeup Kit - Colossal Waterproof Mascara, Colossal Kajal, Colossal Bold Liner with Free NYC Cotton Mask (Pack of 4 items), 18 gm\"], ['Mamaearth Ubtan Day Cream with SPF 30, with Turmeric & Saffron for Skin Brightening – 50 g'], ['Vega Premium Eye Lash Curler'], ['Garnier Bright Complete VITAMIN C YOGHURT Night Cream, 40g'], ['TYA Makeup Kit + 5 Pcs Makeup Brush + 2 Pc Blender Puff Combo'], ['Vaseline Intensive Care Deep Moisture Body Lotion, Long Lasting Moisturisation For Healthy, Glowing Skin, 400 ml'], ['Plum Green Tea Alcohol Free Toner | For Oily, Acne Prone Skin | Shrinks & Tightens Pores | 100% Vegan | 200ml'], ['mCaffeine Espresso Coffee Deep Exfoliating Face Scrub | Removes Blackheads & Whiteheads, Polishes Skin | Walnut, Pro-Vitamin B5 | All Skin Types | Paraben & Cruelty Free'], ['Carmesi Carmesi Facial Razor for Women - For Instant & Painless Hair Removal (Eyebrows, Upper Lip, Forehead, Peach Fuzz, Chin, Sideburns) - Pack of 3, 3 count'], ['Himalaya Purifying Neem Face Wash, 400 ml'], ['Lakme 9 to 5 Vitamin C+ Face Serum, For Nourished & Bright Skin with Antioxidant Rich Vitamin C & Kakadu Plum Extract, Non Greasy, 30 ml'], ['Plum 15% Vitamin C Face Serum with Mandarin for Glowing Skin with Pure Ethyl Ascorbic Acid for Hyperpigmentation & Dull Skin, Fragrance-Free, 20 ml'], ['Lakme Insta Eye Liner, Black, Water Resistant, Long-Lasting, 9 ml'], ['Lakmé Rose Face Powder With Sunscreen, Soft Pink, 40 g'], ['ADTALA 4-in-1 Travel Dispenser Bottle Set,Include 4-40 ML Cosmetic Toiletries TSA Approved Refillable Leakproof Liquid Containers for Shampoo,Lotions,Skincare,Makeup Travel Organized Bottle'], ['Zilch Freedom Tango Natural Vit C & Amla Hair Growth & Hairfall Control Shampoo, 200 ml (No Sulphates, No Parabens)'], ['Lotus Herbals WhiteGlow 3-In-1 Deep Cleansing Skin Whitening Facial Foam, face wash, for all skin types , 100g'], ['Maybelline New York Fit Me Matte+Poreless Liquid Foundation Tube, 310 Sun Beige, 18ml'], ['Wiffy PROFECSSIONAL MAKEUP COMBO KIT FIT ME MATTE+PORELESS LIQUID TUBE FOUNDATION. FIT ME PRESSED POWDER COMPACT ( CAPPUCCINO, 8.5 G ) AND FIT ME CONCEALER (36 GOLDEN CARAMEL, 6.8 ML). MAKEUP COSMETIC FACE POWDER, FOUNDATION/BLUSH BRUSH(WHT)'], ['Colorbar Nail Polish Remover, 110ml'], ['Biotique Bio Cucumber Pore Tightening Toner, 120ml'], ['Good Vibes Rose Hip Radiant Glow Face Serum, 10 ml Light Weight Non Greasy Moisturizing Anti Ageing Formula For All Skin Types, Corrects Dark Spots, Natural, No Parabens & Sulphates, No Animal Testing'], ['Dove Gentle Exfoliating Nourishing Body Wash, Mild Cleanser Moisturizes Skin, Balances PH, For All Skin Type, 800 ml'], ['Adbeni Special Combo Makeup Sets Pack of 6-C365'], ['Mamaearth Onion Anti Hairfall Combo (Shampoo and Conditioner)- 250 ml each'], ['Nude Edition Eyeshadow, Essential Oil, Primer, Foundation, Compact Powder, Loose Powder, Concealer, Eyeliner, Mascara, Lipstick, Makeup Fixer, Makeup Remover, Beauty Blender (14 Items in the set)'], ['Iba Halal Care Primer + Foundation + Compact Combo, Natural Beige, 30 millilitre'], ['Candid Prickly Heat Powder 120g, white'], ['Bella Vita Organic Exfoliate Coffee Scrub For Face & Body Skin Brightening De Tan Removal Ayurveda, Dirt Removal From Neck, Knees, Elbows, Face, Scalp, Arms Etc, 75 g'], ['Volbit Acrylic Jewellery & Cosmetic Storage Display Boxes Double Layer Beauty Vanity Jewellery Clear Acrylic Stand and Organizer, 3 Drawer'], ['Maybelline New York Baby Lips Loves NYC Lip Balm, (Pack of 4) 25g'], ['Lotus Organics+ Precious Brightening Crème Spf 20, 50 g'], ['Maybelline New York Baby Lips Cherry Crush & Baby Lips Berry Crush, Red, 31.2 g (Pack of 2)'], ['Cipla Mamaxpert Stretch Mark Cream to Reduce Stretch Marks & Scars, 60 gm…'], ['Sebamed Baby Wash Extra Soft, 200ml'], ['Plum Green Tea Mattifying Moisturizer for Daily Use | For Oily, Acne-Prone Skin | Lightweight, Matte Formula | 50ml'], ['Need help?']] [['547'], ['1,155'], ['149'], ['640'], ['729'], ['127'], ['201'], ['399'], ['251'], ['1,299'], ['42'], ['239'], ['262'], ['440'], ['268'], ['203'], ['149'], ['129'], ['224'], ['159'], ['488'], ['299'], ['569'], ['313'], ['621'], ['599'], ['147'], ['195'], ['299'], ['276'], ['331'], ['199'], ['224'], ['227'], ['411'], ['495'], ['110'], ['135'], ['419'], ['600'], ['156'], ['299'], ['489'], ['93'], ['114'], ['192'], ['320'], ['299'], ['543'], ['699'], ['708'], ['64'], ['225'], ['1,200'], ['490'], ['549'], ['349'], ['314'], ['390'], ['400']] [['₹799'], ['₹1,445'], ['₹599'], ['₹2,291'], ['₹2,916'], ['₹150'], ['₹275'], ['₹999'], ['₹399'], ['₹1,732'], ['₹129'], ['₹299'], ['₹399'], ['₹545'], ['₹310'], ['₹240'], ['₹199'], ['₹160'], ['₹250'], ['₹199'], ['₹575'], ['₹399'], ['₹750'], ['₹349'], ['₹828'], ['₹210'], ['₹789'], ['₹325'], ['₹390'], ['₹229'], ['₹299'], ['₹350'], ['₹599'], ['₹550'], ['₹120'], ['₹160'], ['₹4,999'], ['₹199'], ['₹1,499'], ['₹125'], ['₹173'], ['₹225'], ['₹400'], ['₹800'], ['₹698'], ['₹999'], ['₹973'], ['₹99'], ['₹399'], ['₹4,999'], ['₹700'], ['₹845'], ['₹350'], ['₹349'], ['₹456'], ['₹470']] "
     ]
    }
   ],
   "source": [
    "driver = webdriver.Chrome(executable_path = driverPath)\n",
    "driver.get(\"https://www.amazon.in/s?k=offers+in+cosmetics+products&crid=2YQ152BFZXVEJ&sprefix=offers+in+cos%2Caps%2C319&ref=nb_sb_ss_ts-doa-p_1_13\")\n",
    "driver.maximize_window()\n",
    "\n",
    "a=driver.find_elements_by_xpath(\"//h2\")\n",
    "l=[]\n",
    "for i in a:\n",
    "    l.append(i.text.split(\"\\n\"))\n",
    "print(l,end=\" \")\n",
    "b=driver.find_elements_by_xpath(\"//span[@class='a-price-whole']\")\n",
    "l1=[]\n",
    "for j in b:\n",
    "    if j.text!='':\n",
    "        l1.append(j.text.split(\"\\n\"))\n",
    "print(l1,end=\" \")\n",
    "c=driver.find_elements_by_xpath(\"//span[@class='a-price a-text-price']\")\n",
    "\n",
    "l2=[]\n",
    "for k in c:\n",
    "    if k.text!='':\n",
    "        l2.append(k.text.split(\"\\n\"))\n",
    "print(l2,end=\" \")\n",
    "\n",
    "\n",
    "df=pd.DataFrame(list(zip(l,l1,l2)),columns=[\"Product Name\",\"Original Price\",\"discount_price\"])\n",
    "writer = pd.ExcelWriter('cosmetic product.xlsx', engine='xlsxwriter')\n",
    "df.to_excel(writer, sheet_name=\"cosmetic product\", index=False)\n",
    "writer.save()\n",
    "\n",
    "driver.close()"
   ]
  },
  {
   "cell_type": "code",
   "execution_count": null,
   "id": "b34303b7",
   "metadata": {},
   "outputs": [],
   "source": []
  }
 ],
 "metadata": {
  "kernelspec": {
   "display_name": "Python 3 (ipykernel)",
   "language": "python",
   "name": "python3"
  },
  "language_info": {
   "codemirror_mode": {
    "name": "ipython",
    "version": 3
   },
   "file_extension": ".py",
   "mimetype": "text/x-python",
   "name": "python",
   "nbconvert_exporter": "python",
   "pygments_lexer": "ipython3",
   "version": "3.9.6"
  }
 },
 "nbformat": 4,
 "nbformat_minor": 5
}
